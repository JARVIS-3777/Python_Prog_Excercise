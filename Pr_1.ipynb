{
 "cells": [
  {
   "cell_type": "raw",
   "id": "6c01d4c9",
   "metadata": {},
   "source": [
    "Q2:- Write a program that will convert celsius value to fahrenheit."
   ]
  },
  {
   "cell_type": "code",
   "execution_count": 1,
   "id": "6bc81187",
   "metadata": {},
   "outputs": [
    {
     "name": "stdout",
     "output_type": "stream",
     "text": [
      "Enter Celsius Value55\n",
      "55.0 131.0\n"
     ]
    }
   ],
   "source": [
    "Celsius=float(input('Enter Celsius Value'))\n",
    "Farenheit=((Celsius*1.8)+32)\n",
    "print(Celsius,Farenheit)"
   ]
  },
  {
   "cell_type": "raw",
   "id": "090f135b",
   "metadata": {},
   "source": [
    "Q3:- Take 2 numbers as input from the user.Write a program to swap the numbers without using any special python syntax."
   ]
  },
  {
   "cell_type": "code",
   "execution_count": 7,
   "id": "6736e14b",
   "metadata": {},
   "outputs": [
    {
     "name": "stdout",
     "output_type": "stream",
     "text": [
      "Enter number 15\n",
      "Enter number 26\n",
      "Swap b to a: 6 -Swap a to b: 5\n"
     ]
    }
   ],
   "source": [
    "a=input('Enter number 1')\n",
    "b=input('Enter number 2')\n",
    "temp=a\n",
    "a=b\n",
    "b=temp\n",
    "print('Swap b to a:',a,\"-\" 'Swap a to b:',b)"
   ]
  },
  {
   "cell_type": "raw",
   "id": "1d5c1e4e",
   "metadata": {},
   "source": [
    "Q4:- Write a program to find the euclidean distance between two coordinates.Take both the coordinates from the user as input."
   ]
  },
  {
   "cell_type": "code",
   "execution_count": 8,
   "id": "503001d4",
   "metadata": {},
   "outputs": [
    {
     "name": "stdout",
     "output_type": "stream",
     "text": [
      "Enter X Cod 1st point55\n",
      "Enter Y Cod 1st point66\n",
      "Enter X Cod 2nd point44\n",
      "Enter Y Cod 2nd point55\n",
      "121.0\n"
     ]
    }
   ],
   "source": [
    "p1x=float(input('Enter X Cod 1st point'))\n",
    "p1y=float(input('Enter Y Cod 1st point'))\n",
    "p2x=float(input('Enter X Cod 2nd point'))\n",
    "p2y=float(input('Enter Y Cod 2nd point'))\n",
    "distance=((p2x-p1x)**2 + (p2y-p1y)**2)*0.5\n",
    "print(distance)"
   ]
  },
  {
   "cell_type": "raw",
   "id": "443de398",
   "metadata": {},
   "source": [
    "Q5:- Write a program to find the simple interest when the value of principle,rate of interest and time period is provided by the user."
   ]
  },
  {
   "cell_type": "code",
   "execution_count": 9,
   "id": "8a21982a",
   "metadata": {},
   "outputs": [
    {
     "name": "stdout",
     "output_type": "stream",
     "text": [
      "Enter Principle Value100\n",
      "Enter Rate Of Interest Value5\n",
      "Enter Time Period Value10\n",
      "50.0\n"
     ]
    }
   ],
   "source": [
    "P=float(input('Enter Principle Value'))\n",
    "R=float(input('Enter Rate Of Interest Value'))\n",
    "T=float(input('Enter Time Period Value'))\n",
    "SI =(P*T*R)/100\n",
    "print(SI)"
   ]
  },
  {
   "cell_type": "raw",
   "id": "30ef0eca",
   "metadata": {},
   "source": [
    "Q6:- Write a program to find the sum of squares of first n natural numbers where n will be provided by the user."
   ]
  },
  {
   "cell_type": "code",
   "execution_count": 14,
   "id": "0765467b",
   "metadata": {},
   "outputs": [
    {
     "name": "stdout",
     "output_type": "stream",
     "text": [
      "Enter the n number5\n",
      "55.0\n"
     ]
    }
   ],
   "source": [
    "n=int(input('Enter the n number'))\n",
    "sum_of_square_n=(n*(n+1)*(2*n+1))/6\n",
    "print(sum_of_square_n)"
   ]
  },
  {
   "cell_type": "raw",
   "id": "da17a0f5",
   "metadata": {},
   "source": [
    "Q7:- Given the first 2 terms of an Arithmetic Series.Find the Nth term of the series. Assume all inputs are provided by the user."
   ]
  },
  {
   "cell_type": "code",
   "execution_count": 4,
   "id": "982ee091",
   "metadata": {},
   "outputs": [
    {
     "name": "stdout",
     "output_type": "stream",
     "text": [
      "Enter first term5\n",
      "Enter second term10\n",
      "Enter n\"th term15\n",
      "5 10 -5 15 -65\n"
     ]
    }
   ],
   "source": [
    "#am_series =a+(n-1)d\n",
    "n1= int(input('Enter first term'))\n",
    "n2= int(input('Enter second term'))\n",
    "d=n1-n2\n",
    "n =int(input('Enter n\"th term'))\n",
    "#an=a1+(n-1)*d\n",
    "an=n1+(n-1)*d\n",
    "print(n1,n2,d,n,an)"
   ]
  },
  {
   "cell_type": "raw",
   "id": "2be7b57e",
   "metadata": {},
   "source": [
    "Q9:- Given 2 fractions, find the sum of those 2 fractions.Take the numerator and denominator values of the fractions from the user."
   ]
  },
  {
   "cell_type": "code",
   "execution_count": 7,
   "id": "53c71c32",
   "metadata": {},
   "outputs": [
    {
     "name": "stdout",
     "output_type": "stream",
     "text": [
      "Enter Numerator 1 : 2\n",
      "Enter Denominator 1: 5\n",
      "Enter Numerator 2 : 6\n",
      "Enter Denominator 2 : 10\n",
      "Sum of two fraction is  1.0\n"
     ]
    }
   ],
   "source": [
    "n1=int(input('Enter Numerator 1 : '))\n",
    "d1=int(input('Enter Denominator 1: '))\n",
    "n2=int(input('Enter Numerator 2 : '))\n",
    "d2=int(input('Enter Denominator 2 : '))\n",
    "s1=(n1*d2+n2*d1)\n",
    "s2=d1*d2\n",
    "add=s1/s2\n",
    "print('Sum of two fraction is ',add)"
   ]
  },
  {
   "cell_type": "code",
   "execution_count": null,
   "id": "826a24dd",
   "metadata": {},
   "outputs": [],
   "source": []
  }
 ],
 "metadata": {
  "kernelspec": {
   "display_name": "Python 3 (ipykernel)",
   "language": "python",
   "name": "python3"
  },
  "language_info": {
   "codemirror_mode": {
    "name": "ipython",
    "version": 3
   },
   "file_extension": ".py",
   "mimetype": "text/x-python",
   "name": "python",
   "nbconvert_exporter": "python",
   "pygments_lexer": "ipython3",
   "version": "3.9.13"
  }
 },
 "nbformat": 4,
 "nbformat_minor": 5
}
